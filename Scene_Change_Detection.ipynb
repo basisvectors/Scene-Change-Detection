{
  "cells": [
    {
      "cell_type": "markdown",
      "metadata": {
        "id": "view-in-github",
        "colab_type": "text"
      },
      "source": [
        "<a href=\"https://colab.research.google.com/github/basisvectors/Scene-Change-Detection/blob/main/Scene_Change_Detection.ipynb\" target=\"_parent\"><img src=\"https://colab.research.google.com/assets/colab-badge.svg\" alt=\"Open In Colab\"/></a>"
      ]
    },
    {
      "cell_type": "code",
      "execution_count": null,
      "metadata": {
        "colab": {
          "base_uri": "https://localhost:8080/"
        },
        "id": "rs1hjceT3m-B",
        "outputId": "603d0414-4c27-4879-9c53-2b72cc90a45f"
      },
      "outputs": [
        {
          "output_type": "stream",
          "name": "stdout",
          "text": [
            "\u001b[?25l\r\u001b[K     |███▎                            | 10 kB 24.5 MB/s eta 0:00:01\r\u001b[K     |██████▋                         | 20 kB 18.5 MB/s eta 0:00:01\r\u001b[K     |██████████                      | 30 kB 11.9 MB/s eta 0:00:01\r\u001b[K     |█████████████▎                  | 40 kB 9.9 MB/s eta 0:00:01\r\u001b[K     |████████████████▋               | 51 kB 4.8 MB/s eta 0:00:01\r\u001b[K     |████████████████████            | 61 kB 5.7 MB/s eta 0:00:01\r\u001b[K     |███████████████████████▏        | 71 kB 5.8 MB/s eta 0:00:01\r\u001b[K     |██████████████████████████▌     | 81 kB 5.7 MB/s eta 0:00:01\r\u001b[K     |█████████████████████████████▉  | 92 kB 6.4 MB/s eta 0:00:01\r\u001b[K     |████████████████████████████████| 98 kB 3.8 MB/s \n",
            "\u001b[?25h  Building wheel for ffmpeg (setup.py) ... \u001b[?25l\u001b[?25hdone\n",
            "\u001b[K     |████████████████████████████████| 2.6 MB 5.5 MB/s \n",
            "\u001b[K     |████████████████████████████████| 357 kB 61.4 MB/s \n",
            "\u001b[K     |████████████████████████████████| 218 kB 61.7 MB/s \n",
            "\u001b[K     |████████████████████████████████| 2.0 MB 48.6 MB/s \n",
            "\u001b[K     |████████████████████████████████| 111 kB 69.1 MB/s \n",
            "\u001b[?25hSelecting previously unselected package libmagic-mgc.\n",
            "(Reading database ... 156210 files and directories currently installed.)\n",
            "Preparing to unpack .../0-libmagic-mgc_1%3a5.32-2ubuntu0.4_amd64.deb ...\n",
            "Unpacking libmagic-mgc (1:5.32-2ubuntu0.4) ...\n",
            "Selecting previously unselected package libmagic1:amd64.\n",
            "Preparing to unpack .../1-libmagic1_1%3a5.32-2ubuntu0.4_amd64.deb ...\n",
            "Unpacking libmagic1:amd64 (1:5.32-2ubuntu0.4) ...\n",
            "Selecting previously unselected package libebml4v5:amd64.\n",
            "Preparing to unpack .../2-libebml4v5_1.3.5-2ubuntu0.1_amd64.deb ...\n",
            "Unpacking libebml4v5:amd64 (1.3.5-2ubuntu0.1) ...\n",
            "Selecting previously unselected package libmatroska6v5:amd64.\n",
            "Preparing to unpack .../3-libmatroska6v5_1.4.8-1.1_amd64.deb ...\n",
            "Unpacking libmatroska6v5:amd64 (1.4.8-1.1) ...\n",
            "Selecting previously unselected package libpugixml1v5:amd64.\n",
            "Preparing to unpack .../4-libpugixml1v5_1.8.1-7_amd64.deb ...\n",
            "Unpacking libpugixml1v5:amd64 (1.8.1-7) ...\n",
            "Selecting previously unselected package mkvtoolnix.\n",
            "Preparing to unpack .../5-mkvtoolnix_19.0.0-1_amd64.deb ...\n",
            "Unpacking mkvtoolnix (19.0.0-1) ...\n",
            "Setting up libpugixml1v5:amd64 (1.8.1-7) ...\n",
            "Setting up libebml4v5:amd64 (1.3.5-2ubuntu0.1) ...\n",
            "Setting up libmagic-mgc (1:5.32-2ubuntu0.4) ...\n",
            "Setting up libmagic1:amd64 (1:5.32-2ubuntu0.4) ...\n",
            "Setting up libmatroska6v5:amd64 (1.4.8-1.1) ...\n",
            "Setting up mkvtoolnix (19.0.0-1) ...\n",
            "update-alternatives: using /usr/bin/mkvinfo-text to provide /usr/bin/mkvinfo (mkvinfo) in auto mode\n",
            "Processing triggers for man-db (2.8.3-2ubuntu0.1) ...\n",
            "Processing triggers for hicolor-icon-theme (0.17-2) ...\n",
            "Processing triggers for libc-bin (2.27-3ubuntu1.3) ...\n",
            "/sbin/ldconfig.real: /usr/local/lib/python3.7/dist-packages/ideep4py/lib/libmkldnn.so.0 is not a symbolic link\n",
            "\n",
            "Cloning into 'bufferer'...\n",
            "remote: Enumerating objects: 401, done.\u001b[K\n",
            "remote: Counting objects: 100% (53/53), done.\u001b[K\n",
            "remote: Compressing objects: 100% (7/7), done.\u001b[K\n",
            "remote: Total 401 (delta 50), reused 46 (delta 46), pack-reused 348\u001b[K\n",
            "Receiving objects: 100% (401/401), 11.24 MiB | 30.44 MiB/s, done.\n",
            "Resolving deltas: 100% (191/191), done.\n",
            "Collecting bufferer\n",
            "  Downloading bufferer-0.20.0-py3-none-any.whl (11 kB)\n",
            "Requirement already satisfied: docopt in /usr/local/lib/python3.7/dist-packages (from bufferer) (0.6.2)\n",
            "Installing collected packages: bufferer\n",
            "Successfully installed bufferer-0.20.0\n"
          ]
        }
      ],
      "source": [
        "!pip install scenedetect[opencv] --upgrade --quiet\n",
        "!pip install ffmpeg --quiet\n",
        "!pip install -U yt-dlp --quiet\n",
        "!apt-get -qq install mkvtoolnix\n",
        "\n",
        "!git clone https://github.com/slhck/bufferer.git\n",
        "!pip install bufferer\n"
      ]
    },
    {
      "cell_type": "code",
      "execution_count": null,
      "metadata": {
        "cellView": "form",
        "colab": {
          "base_uri": "https://localhost:8080/"
        },
        "id": "4Bg3mxGM4Oh6",
        "outputId": "16b32fb3-ba07-474d-857e-845c319d337d"
      },
      "outputs": [
        {
          "output_type": "stream",
          "name": "stdout",
          "text": [
            "[youtube] ZVjo86OEeFc: Downloading webpage\n",
            "[youtube] ZVjo86OEeFc: Downloading android player API JSON\n",
            "[info] ZVjo86OEeFc: Downloading 1 format(s): 22\n",
            "[download] Destination: /content/ZVjo86OEeFc/input.mp4\n",
            "\u001b[K[download] 100% of 6.89MiB in \u001b[1;37m00:00\u001b[0m\n"
          ]
        }
      ],
      "source": [
        "#@markdown #Video Downloder{ vertical-output: true }\n",
        "# import os\n",
        "import shutil\n",
        "import os\n",
        "# Standard PySceneDetect imports:\n",
        "from scenedetect import VideoManager\n",
        "from scenedetect import SceneManager\n",
        "\n",
        "# For content-aware scene detection:\n",
        "from scenedetect.detectors import ContentDetector\n",
        "\n",
        "def find_scenes(video_path, threshold=30.0):\n",
        "    # Create our video & scene managers, then add the detector.\n",
        "    video_manager = VideoManager([video_path])\n",
        "    scene_manager = SceneManager()\n",
        "    scene_manager.add_detector(\n",
        "        ContentDetector(threshold=threshold))\n",
        "\n",
        "    # Improve processing speed by downscaling before processing.\n",
        "    video_manager.set_downscale_factor()\n",
        "\n",
        "    # Start the video manager and perform the scene detection.\n",
        "    video_manager.start()\n",
        "    scene_manager.detect_scenes(frame_source=video_manager)\n",
        "\n",
        "    # Each returned scene is a tuple of the (start, end) timecode.\n",
        "    scene_list = scene_manager.get_scene_list()\n",
        "    # print(len(scene_list))\n",
        "    splits = \"\"\n",
        "    for i in scene_list:\n",
        "      splits += f\"[{str(i[1].get_seconds())},{DURATION}],\"\n",
        "    splits = splits[:-1]\n",
        "\n",
        "    return scene_list, splits\n",
        "\n",
        "url = \"https://www.youtube.com/watch?v=ZVjo86OEeFc\" #@param {type:\"string\"}\n",
        "id = \"/content/\" + url.split(\"=\")[1]\n",
        "\n",
        "!mkdir {id}\n",
        "\n",
        "# shutil.copytree(\"./bufferer/spinners/\",f\"{id}/spinners/\", copy_function=shutil.copy2)\n",
        "\n",
        "# !cd {id}\n",
        "# os.chdir(id)\n",
        "# os.listdir()\n",
        "filepath = f\"{id}/input.mp4\"\n",
        "!yt-dlp {url} -o {filepath} -f mp4\n",
        "#@markdown ### Scene change pause duration\n",
        "DURATION = 1 #@param {type:\"number\"}"
      ]
    },
    {
      "cell_type": "code",
      "execution_count": null,
      "metadata": {
        "colab": {
          "base_uri": "https://localhost:8080/"
        },
        "id": "bBp1CFsp3-Xz",
        "outputId": "ce728ad6-d0ae-427f-c7eb-c42e258599dd"
      },
      "outputs": [
        {
          "output_type": "stream",
          "name": "stderr",
          "text": [
            "100%|██████████| 720/720 [00:05<00:00, 142.69frames/s]"
          ]
        },
        {
          "output_type": "stream",
          "name": "stdout",
          "text": [
            "[2.8361666666666663,1],[5.588916666666666,1],[6.5065,1],[8.133125,1],[9.759749999999999,1],[11.011,1],[12.429083333333333,1],[13.805458333333332,1],[15.014999999999999,1],[15.682333333333332,1],[17.100416666666664,1],[18.143124999999998,1],[18.935583333333334,1],[19.894875,1],[20.812458333333332,1],[22.230541666666664,1],[22.897875,1],[23.732041666666664,1],[26.276249999999997,1],[27.861166666666666,1],[29.195833333333333,1],[30.029999999999998,1]\n"
          ]
        },
        {
          "output_type": "stream",
          "name": "stderr",
          "text": [
            "\n"
          ]
        }
      ],
      "source": [
        "scene_list, splits = find_scenes(filepath)\n",
        "print(splits)"
      ]
    },
    {
      "cell_type": "code",
      "execution_count": null,
      "metadata": {
        "cellView": "form",
        "colab": {
          "base_uri": "https://localhost:8080/",
          "height": 843,
          "referenced_widgets": [
            "f64e8542314f4e6b868e77f25f97df73",
            "51bb9d1bfb8f42f79f788ce8793f093f"
          ]
        },
        "id": "yQNjHlyNGnqh",
        "outputId": "884c39fa-a7c1-4e10-c8b4-f818bd66e311"
      },
      "outputs": [
        {
          "output_type": "stream",
          "name": "stdout",
          "text": [
            "[info] running command for processing video\n",
            "ffmpeg -nostdin -threads 1 -n -i /content/ZVjo86OEeFc/input.mp4 -filter_complex '[0:v]loop=loop=23:size=1:start=68,setpts=N/FRAME_RATE/TB,loop=loop=23:size=1:start=157,setpts=N/FRAME_RATE/TB,loop=loop=23:size=1:start=202,setpts=N/FRAME_RATE/TB,loop=loop=23:size=1:start=264,setpts=N/FRAME_RATE/TB,loop=loop=23:size=1:start=326,setpts=N/FRAME_RATE/TB,loop=loop=23:size=1:start=379,setpts=N/FRAME_RATE/TB,loop=loop=23:size=1:start=436,setpts=N/FRAME_RATE/TB,loop=loop=23:size=1:start=492,setpts=N/FRAME_RATE/TB,loop=loop=23:size=1:start=544,setpts=N/FRAME_RATE/TB,loop=loop=23:size=1:start=583,setpts=N/FRAME_RATE/TB,loop=loop=23:size=1:start=640,setpts=N/FRAME_RATE/TB,loop=loop=23:size=1:start=688,setpts=N/FRAME_RATE/TB,loop=loop=23:size=1:start=730,setpts=N/FRAME_RATE/TB,loop=loop=23:size=1:start=776,setpts=N/FRAME_RATE/TB,loop=loop=23:size=1:start=821,setpts=N/FRAME_RATE/TB,loop=loop=23:size=1:start=878,setpts=N/FRAME_RATE/TB,loop=loop=23:size=1:start=917,setpts=N/FRAME_RATE/TB,loop=loop=23:size=1:start=960,setpts=N/FRAME_RATE/TB,loop=loop=23:size=1:start=1044,setpts=N/FRAME_RATE/TB,loop=loop=23:size=1:start=1105,setpts=N/FRAME_RATE/TB,loop=loop=23:size=1:start=1160,setpts=N/FRAME_RATE/TB,loop=loop=23:size=1:start=1203,setpts=N/FRAME_RATE/TB[stallvid2];[stallvid2]avgblur=5:enable='\"'\"'between(t,2.836,3.835)+between(t,6.589,7.588)+between(t,8.506,9.505)+between(t,11.133,12.132)+between(t,13.76,14.759)+between(t,16.011,17.009999999999998)+between(t,18.429,19.427999999999997)+between(t,20.805,21.804)+between(t,23.015,24.014)+between(t,24.682,25.680999999999997)+between(t,27.1,28.099)+between(t,29.143,30.142)+between(t,30.936,31.935)+between(t,32.895,33.894000000000005)+between(t,34.812,35.811)+between(t,37.231,38.230000000000004)+between(t,38.898,39.897000000000006)+between(t,40.732,41.731)+between(t,44.276,45.275000000000006)+between(t,46.861,47.86)+between(t,49.196,50.195)+between(t,51.03,52.029)'\"'\"',eq=brightness=0.0:enable='\"'\"'between(t,2.836,3.835)+between(t,6.589,7.588)+between(t,8.506,9.505)+between(t,11.133,12.132)+between(t,13.76,14.759)+between(t,16.011,17.009999999999998)+between(t,18.429,19.427999999999997)+between(t,20.805,21.804)+between(t,23.015,24.014)+between(t,24.682,25.680999999999997)+between(t,27.1,28.099)+between(t,29.143,30.142)+between(t,30.936,31.935)+between(t,32.895,33.894000000000005)+between(t,34.812,35.811)+between(t,37.231,38.230000000000004)+between(t,38.898,39.897000000000006)+between(t,40.732,41.731)+between(t,44.276,45.275000000000006)+between(t,46.861,47.86)+between(t,49.196,50.195)+between(t,51.03,52.029)'\"'\"'[stallvidblur];movie=filename=./bufferer/spinners/spinner-256-white.png:loop=0,setpts=N/(FRAME_RATE*TB)*2,fps=fps=23.98[spinner];[stallvidblur][spinner]overlay=(main_w-overlay_w)/2:(main_h-overlay_h)/2:shortest=1:enable='\"'\"'between(t,2.836,3.835)+between(t,6.589,7.588)+between(t,8.506,9.505)+between(t,11.133,12.132)+between(t,13.76,14.759)+between(t,16.011,17.009999999999998)+between(t,18.429,19.427999999999997)+between(t,20.805,21.804)+between(t,23.015,24.014)+between(t,24.682,25.680999999999997)+between(t,27.1,28.099)+between(t,29.143,30.142)+between(t,30.936,31.935)+between(t,32.895,33.894000000000005)+between(t,34.812,35.811)+between(t,37.231,38.230000000000004)+between(t,38.898,39.897000000000006)+between(t,40.732,41.731)+between(t,44.276,45.275000000000006)+between(t,46.861,47.86)+between(t,49.196,50.195)+between(t,51.03,52.029)'\"'\"'[outv]' -map '[outv]' -c:v libx264 -pix_fmt yuv420p -vsync cfr output.mp4_video.nut\n",
            "[info] running command for processing audio\n",
            "ffmpeg -nostdin -threads 1 -n -i /content/ZVjo86OEeFc/input.mp4 -filter_complex '[0:a]aloop=loop=44100:size=1:start=125074,asetpts=N/SAMPLE_RATE/TB,aloop=loop=44100:size=1:start=290571,asetpts=N/SAMPLE_RATE/TB,aloop=loop=44100:size=1:start=375136,asetpts=N/SAMPLE_RATE/TB,aloop=loop=44100:size=1:start=490970,asetpts=N/SAMPLE_RATE/TB,aloop=loop=44100:size=1:start=606804,asetpts=N/SAMPLE_RATE/TB,aloop=loop=44100:size=1:start=706085,asetpts=N/SAMPLE_RATE/TB,aloop=loop=44100:size=1:start=812722,asetpts=N/SAMPLE_RATE/TB,aloop=loop=44100:size=1:start=917520,asetpts=N/SAMPLE_RATE/TB,aloop=loop=44100:size=1:start=1014961,asetpts=N/SAMPLE_RATE/TB,aloop=loop=44100:size=1:start=1088490,asetpts=N/SAMPLE_RATE/TB,aloop=loop=44100:size=1:start=1195128,asetpts=N/SAMPLE_RATE/TB,aloop=loop=44100:size=1:start=1285211,asetpts=N/SAMPLE_RATE/TB,aloop=loop=44100:size=1:start=1364259,asetpts=N/SAMPLE_RATE/TB,aloop=loop=44100:size=1:start=1450663,asetpts=N/SAMPLE_RATE/TB,aloop=loop=44100:size=1:start=1535229,asetpts=N/SAMPLE_RATE/TB,aloop=loop=44100:size=1:start=1641866,asetpts=N/SAMPLE_RATE/TB,aloop=loop=44100:size=1:start=1715396,asetpts=N/SAMPLE_RATE/TB,aloop=loop=44100:size=1:start=1796283,asetpts=N/SAMPLE_RATE/TB,aloop=loop=44100:size=1:start=1952582,asetpts=N/SAMPLE_RATE/TB,aloop=loop=44100:size=1:start=2066577,asetpts=N/SAMPLE_RATE/TB,aloop=loop=44100:size=1:start=2169536,asetpts=N/SAMPLE_RATE/TB,aloop=loop=44100:size=1:start=2250423,asetpts=N/SAMPLE_RATE/TB,volume=0:enable='\"'\"'between(t,2.836,3.836)+between(t,6.589,7.589)+between(t,8.506,9.506)+between(t,11.133,12.133)+between(t,13.76,14.76)+between(t,16.011,17.011)+between(t,18.429,19.429)+between(t,20.805,21.805)+between(t,23.015,24.015)+between(t,24.682,25.682)+between(t,27.1,28.1)+between(t,29.143,30.143)+between(t,30.936,31.936)+between(t,32.895,33.895)+between(t,34.812,35.812)+between(t,37.231,38.231)+between(t,38.898,39.898)+between(t,40.732,41.732)+between(t,44.276,45.276)+between(t,46.861,47.861)+between(t,49.196,50.196)+between(t,51.03,52.03)'\"'\"'[outa]' -map '[outa]' -c:a aac output.mp4_audio.nut\n",
            "[info] running command for merging video/audio\n",
            "ffmpeg -n -i output.mp4_video.nut -i output.mp4_audio.nut -c copy output.mp4\n",
            "Output written to output.mp4\n"
          ]
        },
        {
          "output_type": "display_data",
          "data": {
            "text/plain": [
              "Video(value=b'\\x00\\x00\\x00 ftypisom\\x00\\x00\\x02\\x00isomiso2avc1mp41\\x00\\x00\\x00\\x08free\\x00\\x87q\\x18mdat\\x00\\x…"
            ],
            "application/vnd.jupyter.widget-view+json": {
              "version_major": 2,
              "version_minor": 0,
              "model_id": "f64e8542314f4e6b868e77f25f97df73"
            }
          },
          "metadata": {}
        }
      ],
      "source": [
        "#@title Preview { vertical-output: true }\n",
        "\n",
        "spinner = \"./bufferer/spinners/spinner-256-white.png\" #@param [\"./bufferer/spinners/spinner-256-white.png\", \"./bufferer/spinners/spinner-256-black.png\"]\n",
        "\n",
        "!bufferer -i {filepath} -b {splits} -o output.mp4 -v libx264 -a aac --verbose -s {spinner}\n",
        "\n",
        "from IPython.display import display\n",
        "from ipywidgets import Video\n",
        "\n",
        "Video.from_file(\"/content/output.mp4\")"
      ]
    }
  ],
  "metadata": {
    "colab": {
      "collapsed_sections": [],
      "name": "Scene Change Detection.ipynb",
      "provenance": [],
      "include_colab_link": true
    },
    "kernelspec": {
      "display_name": "Python 3",
      "name": "python3"
    },
    "language_info": {
      "name": "python"
    },
    "widgets": {
      "application/vnd.jupyter.widget-state+json": {
        "f64e8542314f4e6b868e77f25f97df73": {
          "model_module": "@jupyter-widgets/controls",
          "model_name": "VideoModel",
          "model_module_version": "1.5.0",
          "state": {
            "_dom_classes": [],
            "_model_module": "@jupyter-widgets/controls",
            "_model_module_version": "1.5.0",
            "_model_name": "VideoModel",
            "_view_count": null,
            "_view_module": "@jupyter-widgets/controls",
            "_view_module_version": "1.5.0",
            "_view_name": "VideoView",
            "autoplay": true,
            "controls": true,
            "format": "mp4",
            "height": "",
            "layout": "IPY_MODEL_51bb9d1bfb8f42f79f788ce8793f093f",
            "loop": true,
            "width": ""
          }
        },
        "51bb9d1bfb8f42f79f788ce8793f093f": {
          "model_module": "@jupyter-widgets/base",
          "model_name": "LayoutModel",
          "model_module_version": "1.2.0",
          "state": {
            "_model_module": "@jupyter-widgets/base",
            "_model_module_version": "1.2.0",
            "_model_name": "LayoutModel",
            "_view_count": null,
            "_view_module": "@jupyter-widgets/base",
            "_view_module_version": "1.2.0",
            "_view_name": "LayoutView",
            "align_content": null,
            "align_items": null,
            "align_self": null,
            "border": null,
            "bottom": null,
            "display": null,
            "flex": null,
            "flex_flow": null,
            "grid_area": null,
            "grid_auto_columns": null,
            "grid_auto_flow": null,
            "grid_auto_rows": null,
            "grid_column": null,
            "grid_gap": null,
            "grid_row": null,
            "grid_template_areas": null,
            "grid_template_columns": null,
            "grid_template_rows": null,
            "height": null,
            "justify_content": null,
            "justify_items": null,
            "left": null,
            "margin": null,
            "max_height": null,
            "max_width": null,
            "min_height": null,
            "min_width": null,
            "object_fit": null,
            "object_position": null,
            "order": null,
            "overflow": null,
            "overflow_x": null,
            "overflow_y": null,
            "padding": null,
            "right": null,
            "top": null,
            "visibility": null,
            "width": null
          }
        }
      }
    }
  },
  "nbformat": 4,
  "nbformat_minor": 0
}