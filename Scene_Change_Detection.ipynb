{
  "cells": [
    {
      "cell_type": "markdown",
      "metadata": {
        "id": "view-in-github",
        "colab_type": "text"
      },
      "source": [
        "<a href=\"https://colab.research.google.com/github/basisvectors/Scene-Change-Detection/blob/main/Scene_Change_Detection.ipynb\" target=\"_parent\"><img src=\"https://colab.research.google.com/assets/colab-badge.svg\" alt=\"Open In Colab\"/></a>"
      ]
    },
    {
      "cell_type": "code",
      "execution_count": null,
      "metadata": {
        "id": "rs1hjceT3m-B"
      },
      "outputs": [],
      "source": [
        "!pip install scenedetect[opencv] --upgrade --quiet\n",
        "!pip install ffmpeg --quiet\n",
        "!pip install -U yt-dlp --quiet\n",
        "!apt-get -qq install mkvtoolnix\n",
        "\n",
        "!git clone https://github.com/slhck/bufferer.git\n",
        "!pip install bufferer\n",
        "\n",
        "import shutil\n",
        "import os\n",
        "\n",
        "from IPython.display import display\n",
        "from ipywidgets import Video\n",
        "\n",
        "# Standard PySceneDetect imports:\n",
        "from scenedetect import VideoManager\n",
        "from scenedetect import SceneManager\n",
        "\n",
        "# For content-aware scene detection:\n",
        "from scenedetect.detectors import ContentDetector\n"
      ]
    },
    {
      "cell_type": "code",
      "execution_count": null,
      "metadata": {
        "id": "4Bg3mxGM4Oh6"
      },
      "outputs": [],
      "source": [
        "#@markdown #Video Downloder{ vertical-output: true }\n",
        "\n",
        "def find_scenes(video_path, threshold=30.0):\n",
        "    # Create our video & scene managers, then add the detector.\n",
        "    video_manager = VideoManager([video_path])\n",
        "    scene_manager = SceneManager()\n",
        "    scene_manager.add_detector(ContentDetector(threshold=threshold))\n",
        "\n",
        "    # Improve processing speed by downscaling before processing.\n",
        "    video_manager.set_downscale_factor()\n",
        "\n",
        "    # Start the video manager and perform the scene detection.\n",
        "    video_manager.start()\n",
        "    scene_manager.detect_scenes(frame_source=video_manager)\n",
        "\n",
        "    # Each returned scene is a tuple of the (start, end) timecode.\n",
        "    scene_list = scene_manager.get_scene_list()\n",
        "    # print(len(scene_list))\n",
        "    splits = \"\"\n",
        "    for i in scene_list:\n",
        "      splits += f\"[{str(i[1].get_seconds())},{DURATION}],\"\n",
        "    splits = splits[:-1]\n",
        "\n",
        "    return scene_list, splits\n",
        "\n",
        "url = \"https://www.youtube.com/watch?v=ZVjo86OEeFc\" #@param {type:\"string\"}\n",
        "id = \"/content/\" + url.split(\"=\")[1]\n",
        "\n",
        "!mkdir {id}\n",
        "\n",
        "filepath = f\"{id}/input.mp4\"\n",
        "!yt-dlp {url} -o {filepath} -f mp4\n",
        "#@markdown ### Scene change pause duration\n",
        "DURATION = 1 #@param {type:\"number\"}"
      ]
    },
    {
      "cell_type": "code",
      "execution_count": null,
      "metadata": {
        "colab": {
          "base_uri": "https://localhost:8080/"
        },
        "id": "bBp1CFsp3-Xz",
        "outputId": "ce728ad6-d0ae-427f-c7eb-c42e258599dd"
      },
      "outputs": [
        {
          "output_type": "stream",
          "name": "stderr",
          "text": [
            "100%|██████████| 720/720 [00:05<00:00, 142.69frames/s]"
          ]
        },
        {
          "output_type": "stream",
          "name": "stdout",
          "text": [
            "[2.8361666666666663,1],[5.588916666666666,1],[6.5065,1],[8.133125,1],[9.759749999999999,1],[11.011,1],[12.429083333333333,1],[13.805458333333332,1],[15.014999999999999,1],[15.682333333333332,1],[17.100416666666664,1],[18.143124999999998,1],[18.935583333333334,1],[19.894875,1],[20.812458333333332,1],[22.230541666666664,1],[22.897875,1],[23.732041666666664,1],[26.276249999999997,1],[27.861166666666666,1],[29.195833333333333,1],[30.029999999999998,1]\n"
          ]
        },
        {
          "output_type": "stream",
          "name": "stderr",
          "text": [
            "\n"
          ]
        }
      ],
      "source": [
        "scene_list, splits = find_scenes(filepath)\n",
        "print(splits)"
      ]
    },
    {
      "cell_type": "code",
      "execution_count": null,
      "metadata": {
        "id": "yQNjHlyNGnqh"
      },
      "outputs": [],
      "source": [
        "#@title Preview { vertical-output: true }\n",
        "\n",
        "spinner = \"./bufferer/spinners/spinner-256-white.png\" #@param [\"./bufferer/spinners/spinner-256-white.png\", \"./bufferer/spinners/spinner-256-black.png\"]\n",
        "\n",
        "!bufferer -i {filepath} -b {splits} -o output.mp4 -v libx264 -a aac --verbose -s {spinner}\n",
        "\n",
        "Video.from_file(\"/content/output.mp4\")"
      ]
    }
  ],
  "metadata": {
    "colab": {
      "collapsed_sections": [],
      "name": "Scene Change Detection.ipynb",
      "provenance": [],
      "include_colab_link": true
    },
    "kernelspec": {
      "display_name": "Python 3",
      "name": "python3"
    },
    "language_info": {
      "name": "python"
    }
  },
  "nbformat": 4,
  "nbformat_minor": 0
}